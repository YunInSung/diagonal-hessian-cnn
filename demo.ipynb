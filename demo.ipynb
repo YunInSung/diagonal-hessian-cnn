{
  "cells": [
    {
      "cell_type": "markdown",
      "metadata": {
        "colab_type": "text",
        "id": "view-in-github"
      },
      "source": [
        "<a href=\"https://colab.research.google.com/github/YunInSung/relu-based-2ndOrder-convergence/blob/main/demo.ipynb\" target=\"_parent\"><img src=\"https://colab.research.google.com/assets/colab-badge.svg\" alt=\"Open In Colab\"/></a>"
      ]
    },
    {
      "cell_type": "code",
      "execution_count": 1,
      "metadata": {
        "id": "0Yfan1OdTvzl"
      },
      "outputs": [],
      "source": [
        "# 1️⃣ 셀 1: 환경 설정 & 라이브러리 설치"
      ]
    },
    {
      "cell_type": "code",
      "execution_count": null,
      "metadata": {
        "id": "DXY80UICUAiV"
      },
      "outputs": [],
      "source": [
        "## (필요하다면) Colab 런타임 유형 👉 GPU 선택\n",
        "!git clone https://github.com/YunInSung/diagonal-hessian-cnn.git\n",
        "%cd diagonal-hessian-cnn\n",
        "\n",
        "## requirements.txt에 적어둔 패키지를 강제 재설치\n",
        "!pip install -q --force-reinstall -r requirements.txt"
      ]
    },
    {
      "cell_type": "code",
      "execution_count": null,
      "metadata": {
        "id": "GWsGHqRoUDL7"
      },
      "outputs": [],
      "source": [
        "#2️⃣셀 2: 간단 실행 데모"
      ]
    },
    {
      "cell_type": "code",
      "execution_count": null,
      "metadata": {
        "id": "EX3o4jg9UEbT"
      },
      "outputs": [],
      "source": [
        "!python cnn_sgd_vs_custom/experiment_cnn_sgd.py --datasets cifar10"
      ]
    }
  ],
  "metadata": {
    "colab": {
      "authorship_tag": "ABX9TyOqwTMeVD30Qa75oOWN1oay",
      "include_colab_link": true,
      "provenance": []
    },
    "kernelspec": {
      "display_name": "Python 3",
      "name": "python3"
    },
    "language_info": {
      "name": "python"
    }
  },
  "nbformat": 4,
  "nbformat_minor": 0
}
